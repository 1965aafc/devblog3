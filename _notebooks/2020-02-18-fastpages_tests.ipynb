{
  "nbformat": 4,
  "nbformat_minor": 0,
  "metadata": {
    "kernelspec": {
      "display_name": "Python 3",
      "language": "python",
      "name": "python3"
    },
    "language_info": {
      "codemirror_mode": {
        "name": "ipython",
        "version": 3
      },
      "file_extension": ".py",
      "mimetype": "text/x-python",
      "name": "python",
      "nbconvert_exporter": "python",
      "pygments_lexer": "ipython3",
      "version": "3.6.5"
    },
    "colab": {
      "name": "2020-02-18-fastpages_tests.ipynb",
      "provenance": [],
      "collapsed_sections": []
    }
  },
  "cells": [
    {
      "cell_type": "markdown",
      "metadata": {
        "id": "Fz8yjo4m5MHf",
        "colab_type": "text"
      },
      "source": [
        "# More tests for nbdev & fastpages\n",
        "\n",
        "> Here are a few tests for nbdev and fastpages\n",
        "- toc: false\n",
        "- branch: master\n",
        "- badges: true\n",
        "- comments: true\n",
        "- metadata_key1: metadata_value1\n",
        "- metadata_key2: metadata_value2"
      ]
    },
    {
      "cell_type": "markdown",
      "metadata": {
        "id": "zREdCYkw5MHr",
        "colab_type": "text"
      },
      "source": [
        "## External image URLs:\n",
        "\n",
        "Via markdown tag: `![splash pic i made](https://i.imgur.com/vKiH8As.png)`\n",
        "Here's the image: ![splash pic i made](https://i.imgur.com/vKiH8As.png)\n"
      ]
    },
    {
      "cell_type": "markdown",
      "metadata": {
        "id": "HWjQ9uw05MHx",
        "colab_type": "text"
      },
      "source": [
        "## Embedded images (draw.io)\n",
        "Draw.io object via `<img src=\"`\n",
        "(...Temporarily removed because it breaks w/ Liquid and I want to see fastpages complete a build...)\n",
        "\n",
        "Workaround, loading it as a saved local image, next...\n",
        "\n",
        "## Local images\n",
        "\n",
        "SVG: ![vector diagram svg](images/PCA_Eigenvector.svg)\n"
      ]
    },
    {
      "cell_type": "markdown",
      "metadata": {
        "id": "XwiQMTWa5MH3",
        "colab_type": "text"
      },
      "source": [
        "## Plot.ly graphs\n",
        "The interest in plot.ly is its support for interactive 3D graphs, which Altair doesn't support. "
      ]
    },
    {
      "cell_type": "code",
      "metadata": {
        "id": "SD3Pzb5Z5MH9",
        "colab_type": "code",
        "outputId": "ac0e3244-0f04-4433-fb05-36c4e2737030",
        "colab": {
          "base_uri": "https://localhost:8080/",
          "height": 542
        }
      },
      "source": [
        "import plotly.graph_objects as go\n",
        "from numpy.random import normal \n",
        "\n",
        "N = 100 \n",
        "x, y, z = normal(size=N), normal(size=N), normal(size=N)\n",
        "fig = go.Figure(data=[go.Scatter3d(x=x, y=y, z=z,mode='markers',  \n",
        "        marker=dict(size=8,opacity=0.5), name=\"data\" ) ])\n",
        "fig.show()"
      ],
      "execution_count": 18,
      "outputs": [
        {
          "output_type": "display_data",
          "data": {
            "text/html": [
              "<html>\n",
              "<head><meta charset=\"utf-8\" /></head>\n",
              "<body>\n",
              "    <div>\n",
              "            <script src=\"https://cdnjs.cloudflare.com/ajax/libs/mathjax/2.7.5/MathJax.js?config=TeX-AMS-MML_SVG\"></script><script type=\"text/javascript\">if (window.MathJax) {MathJax.Hub.Config({SVG: {font: \"STIX-Web\"}});}</script>\n",
              "                <script type=\"text/javascript\">window.PlotlyConfig = {MathJaxConfig: 'local'};</script>\n",
              "        <script src=\"https://cdn.plot.ly/plotly-latest.min.js\"></script>    \n",
              "            <div id=\"fda6f259-d8b5-492e-a1eb-65a39edc3a1c\" class=\"plotly-graph-div\" style=\"height:525px; width:100%;\"></div>\n",
              "            <script type=\"text/javascript\">\n",
              "                \n",
              "                    window.PLOTLYENV=window.PLOTLYENV || {};\n",
              "                    \n",
              "                if (document.getElementById(\"fda6f259-d8b5-492e-a1eb-65a39edc3a1c\")) {\n",
              "                    Plotly.newPlot(\n",
              "                        'fda6f259-d8b5-492e-a1eb-65a39edc3a1c',\n",
              "                        [{\"marker\": {\"opacity\": 0.5, \"size\": 8}, \"mode\": \"markers\", \"name\": \"data\", \"type\": \"scatter3d\", \"x\": [-0.4563588796315447, -0.2137796147190117, -0.7759478549952592, 1.072857190407592, -0.35455262542577654, -2.443943442083073, 0.011395741824224905, -0.2713365819600654, 0.06373433323519098, -0.017596774437877317, 0.12716631650857455, 0.42147481761250244, -0.4303922306690787, 1.1392923027468655, -0.9848876020269056, -0.1143626134430376, -0.4577494691906559, -0.05052202120180754, 0.07530025821223003, 0.09606286358121635, 0.32555820658985757, 0.5711725257693909, -0.894537800136146, 0.8891115733719515, -1.2890863642765211, 1.0620935637095577, -1.182029774806163, -0.9824118713966173, -1.2880072466172627, -0.314425653281655, -0.8365186227070712, -0.3543398708475473, -0.42158595700885976, -0.7748986613619658, 1.2713944930106496, -1.8539187024953745, 2.852772726830259, 0.8690261394244867, 0.6393639242859347, 0.6649361614096154, 2.4276018393863166, 0.8218076156104083, 0.37492479367463355, 0.05924865524969396, -0.44769504122848286, 0.2732120929221075, 0.9082981096475872, -0.6188562782791455, 1.97445713709847, -0.5806270561982104, 0.580542674925854, -0.5438878378755422, -0.8746361846264681, 0.19124233840634322, 0.6703498955945364, 0.6361281115808113, 0.025516448518479503, 1.5799004302177875, 0.5153627668051386, 1.1663797406481875, -0.2684320819450318, -2.448021101243331, -0.3446517704652619, -1.4607376209684186, 1.3126475642988058, -0.4387998105158654, -1.859651290434826, 1.5559406244579816, 0.41341758956855496, 0.14224979176543226, -0.48839811856332876, -0.22644045841325236, 0.7712739333854859, 1.4168970631122624, -0.15907214316035448, 0.08969192703277723, 0.1870873076316631, -0.08893844881224545, 0.11231027857282826, -0.7693222260861287, 0.8936657986705809, -0.0005741257747444805, 0.5350468358685068, 0.3131330137271921, -0.36280639280401633, 0.38827860143259524, 0.7229378142839131, -0.053173578436314865, -0.2931967574664276, 0.19923571095650167, 0.6174218350233693, 2.4455157191281143, -1.085781364837872, 0.42839387523430283, 0.08602793538409124, 0.9513784449855631, 0.7477514188208897, -0.5776458945553493, 0.6525369124353411, 0.5311409993825674], \"y\": [0.9353975334594644, -0.42666891823096936, -0.23832484983070315, -0.12325734600733791, -0.5885857676018807, 0.2710581469339699, 0.19007622525205298, 1.3040648444938652, -0.20911968042538087, 1.25895791836229, -0.37997504088953654, -1.4734445602450659, 2.263410039293215, 0.5827679972066061, -0.15788654700808405, 0.0752653630380833, 1.2557291182510004, 0.3886556799781636, -0.11706772524219422, 0.8475766748274983, -1.059141944035618, -0.6316812745203885, 0.5577306665446695, 0.6188384949497636, -0.4874334090970635, 0.6484664221131372, 0.5777683082093861, 0.6300218349605272, 1.6066217521811839, -0.699533005297543, -0.938189401020521, -1.9445507009926712, 0.33603113343629576, -0.08368574483904707, 2.232714919935785, -0.15759554569552064, 0.5873783808897862, -1.0058517931792341, -0.9894629453080196, 1.8867703242759608, 1.0242783725454074, -2.6376303144337414, -0.19181588602663577, -1.0289574153684102, 0.5876982955974851, 0.40100672003224375, -0.24382928566298867, -0.523039652711977, 0.22728048037911505, -0.05158519096710745, 1.3660100088332368, -0.1773337907275864, -0.007282829186750628, -1.9062320936661832, -1.3044184646373296, -1.9974201088507566, -0.08926123626169641, -0.4933507243925773, -1.2938531091138943, 0.9836161042093052, -0.52370187646955, 0.49013479288255873, 0.4051030329371005, 0.06296832647931833, 0.1811212789524836, -0.7112117992372714, 0.17195928761720408, -1.389466927285294, 0.27391885341499783, -1.1612908335628411, -0.9682736270378736, 0.06610571702734871, -0.9598487582886068, 0.650562619089391, 0.3629403853959557, -0.566006304566417, 0.7223567695626267, -0.7645079955072921, 0.27170967225663417, 0.22759377333770983, 0.8774613193741148, -0.6339589055669369, -1.236707979212904, -0.772972530831399, 0.12464890892655674, -0.9427084919593417, -0.05286096913453355, -0.48335370075612266, -2.1237393865018808, 0.45186791305770313, 0.032995831869068966, -0.8530502450888874, 1.337222289298947, -0.2655821928407673, -1.2105256033268093, 0.3216227414970204, -0.6094314047543863, -1.8503579262115708, -1.2121128510814598, -1.124793282132897], \"z\": [1.4197078636888678, 0.16771704578414648, -0.9442751528532536, -0.4098623177001266, -0.25096737063790986, 1.4179549420215865, 0.020433739629798327, 0.18809441914829655, 0.5308912449806092, 1.3162843508800874, -0.7762798337492542, 0.7171133427136972, -1.106456046644101, -0.16716511562486233, 1.324570688068791, -0.11974068405858199, 0.14312410786159507, -0.5777635667430606, 1.5874153196266998, 0.30643968614328576, -1.1188488369252159, -0.9942989830542054, -2.7846598956385975, -0.9861894304231767, -0.1619548446352395, 0.7344867464953326, 0.5466242498387972, 0.7354016267433859, 0.15424607469906762, -0.1376132887367619, 1.325095449643172, 0.7784245668804551, -1.2932421188989698, -2.098811784350314, 0.12674195823685244, -1.777774817258812, 0.5344485692424776, 0.3117537460710803, -2.9009537248327075, -1.3703674898664668, -0.06616615635343777, 0.6657181841354273, -0.545698459320556, 0.07447518970099257, -0.452941761853711, 2.4823259311534334, -1.5378121256325445, -0.9809915325068096, -0.6814570000307305, -1.2441477709936064, -0.05304795935487761, 1.2910051038119215, -0.667263389881998, 1.9550238129606572, -0.18869814324811685, 1.3240327148367153, -0.11101578880217397, -1.175028158018117, 0.16379321275939285, -0.5552872770791307, -1.2395421241877498, -1.6486392304963282, 0.0043316117981497685, -0.02748407376829939, -0.07806931434296362, 0.5549694801772127, 0.037074795411136896, -0.2036865409963507, -0.05499052272377017, -1.6774826590922018, -1.4351726896641792, 0.21137068050201008, 0.10658102089173468, 0.6862182707637421, -0.5458583197494787, -0.18807679141755054, -0.04185051116369336, -1.4055265239082255, 0.4157296194623184, 1.7924615730765048, -0.5946635937715212, 0.3117658471381364, -0.4661622566570695, 0.8724548570291778, -0.45196692120654064, -0.6034672694291461, 1.1190338889628215, 0.15709204374028554, 0.13894258495212944, 0.9871763474168198, -0.058346111440482414, 2.033241907049988, 0.16633584752779895, -0.52221117057789, 1.302757658977778, -0.29900760965200585, 1.2034007331023984, -0.6113841780858862, 0.47378114326849885, -1.079027522741873]}],\n",
              "                        {\"template\": {\"data\": {\"bar\": [{\"error_x\": {\"color\": \"#2a3f5f\"}, \"error_y\": {\"color\": \"#2a3f5f\"}, \"marker\": {\"line\": {\"color\": \"#E5ECF6\", \"width\": 0.5}}, \"type\": \"bar\"}], \"barpolar\": [{\"marker\": {\"line\": {\"color\": \"#E5ECF6\", \"width\": 0.5}}, \"type\": \"barpolar\"}], \"carpet\": [{\"aaxis\": {\"endlinecolor\": \"#2a3f5f\", \"gridcolor\": \"white\", \"linecolor\": \"white\", \"minorgridcolor\": \"white\", \"startlinecolor\": \"#2a3f5f\"}, \"baxis\": {\"endlinecolor\": \"#2a3f5f\", \"gridcolor\": \"white\", \"linecolor\": \"white\", \"minorgridcolor\": \"white\", \"startlinecolor\": \"#2a3f5f\"}, \"type\": \"carpet\"}], \"choropleth\": [{\"colorbar\": {\"outlinewidth\": 0, \"ticks\": \"\"}, \"type\": \"choropleth\"}], \"contour\": [{\"colorbar\": {\"outlinewidth\": 0, \"ticks\": \"\"}, \"colorscale\": [[0.0, \"#0d0887\"], [0.1111111111111111, \"#46039f\"], [0.2222222222222222, \"#7201a8\"], [0.3333333333333333, \"#9c179e\"], [0.4444444444444444, \"#bd3786\"], [0.5555555555555556, \"#d8576b\"], [0.6666666666666666, \"#ed7953\"], [0.7777777777777778, \"#fb9f3a\"], [0.8888888888888888, \"#fdca26\"], [1.0, \"#f0f921\"]], \"type\": \"contour\"}], \"contourcarpet\": [{\"colorbar\": {\"outlinewidth\": 0, \"ticks\": \"\"}, \"type\": \"contourcarpet\"}], \"heatmap\": [{\"colorbar\": {\"outlinewidth\": 0, \"ticks\": \"\"}, \"colorscale\": [[0.0, \"#0d0887\"], [0.1111111111111111, \"#46039f\"], [0.2222222222222222, \"#7201a8\"], [0.3333333333333333, \"#9c179e\"], [0.4444444444444444, \"#bd3786\"], [0.5555555555555556, \"#d8576b\"], [0.6666666666666666, \"#ed7953\"], [0.7777777777777778, \"#fb9f3a\"], [0.8888888888888888, \"#fdca26\"], [1.0, \"#f0f921\"]], \"type\": \"heatmap\"}], \"heatmapgl\": [{\"colorbar\": {\"outlinewidth\": 0, \"ticks\": \"\"}, \"colorscale\": [[0.0, \"#0d0887\"], [0.1111111111111111, \"#46039f\"], [0.2222222222222222, \"#7201a8\"], [0.3333333333333333, \"#9c179e\"], [0.4444444444444444, \"#bd3786\"], [0.5555555555555556, \"#d8576b\"], [0.6666666666666666, \"#ed7953\"], [0.7777777777777778, \"#fb9f3a\"], [0.8888888888888888, \"#fdca26\"], [1.0, \"#f0f921\"]], \"type\": \"heatmapgl\"}], \"histogram\": [{\"marker\": {\"colorbar\": {\"outlinewidth\": 0, \"ticks\": \"\"}}, \"type\": \"histogram\"}], \"histogram2d\": [{\"colorbar\": {\"outlinewidth\": 0, \"ticks\": \"\"}, \"colorscale\": [[0.0, \"#0d0887\"], [0.1111111111111111, \"#46039f\"], [0.2222222222222222, \"#7201a8\"], [0.3333333333333333, \"#9c179e\"], [0.4444444444444444, \"#bd3786\"], [0.5555555555555556, \"#d8576b\"], [0.6666666666666666, \"#ed7953\"], [0.7777777777777778, \"#fb9f3a\"], [0.8888888888888888, \"#fdca26\"], [1.0, \"#f0f921\"]], \"type\": \"histogram2d\"}], \"histogram2dcontour\": [{\"colorbar\": {\"outlinewidth\": 0, \"ticks\": \"\"}, \"colorscale\": [[0.0, \"#0d0887\"], [0.1111111111111111, \"#46039f\"], [0.2222222222222222, \"#7201a8\"], [0.3333333333333333, \"#9c179e\"], [0.4444444444444444, \"#bd3786\"], [0.5555555555555556, \"#d8576b\"], [0.6666666666666666, \"#ed7953\"], [0.7777777777777778, \"#fb9f3a\"], [0.8888888888888888, \"#fdca26\"], [1.0, \"#f0f921\"]], \"type\": \"histogram2dcontour\"}], \"mesh3d\": [{\"colorbar\": {\"outlinewidth\": 0, \"ticks\": \"\"}, \"type\": \"mesh3d\"}], \"parcoords\": [{\"line\": {\"colorbar\": {\"outlinewidth\": 0, \"ticks\": \"\"}}, \"type\": \"parcoords\"}], \"pie\": [{\"automargin\": true, \"type\": \"pie\"}], \"scatter\": [{\"marker\": {\"colorbar\": {\"outlinewidth\": 0, \"ticks\": \"\"}}, \"type\": \"scatter\"}], \"scatter3d\": [{\"line\": {\"colorbar\": {\"outlinewidth\": 0, \"ticks\": \"\"}}, \"marker\": {\"colorbar\": {\"outlinewidth\": 0, \"ticks\": \"\"}}, \"type\": \"scatter3d\"}], \"scattercarpet\": [{\"marker\": {\"colorbar\": {\"outlinewidth\": 0, \"ticks\": \"\"}}, \"type\": \"scattercarpet\"}], \"scattergeo\": [{\"marker\": {\"colorbar\": {\"outlinewidth\": 0, \"ticks\": \"\"}}, \"type\": \"scattergeo\"}], \"scattergl\": [{\"marker\": {\"colorbar\": {\"outlinewidth\": 0, \"ticks\": \"\"}}, \"type\": \"scattergl\"}], \"scattermapbox\": [{\"marker\": {\"colorbar\": {\"outlinewidth\": 0, \"ticks\": \"\"}}, \"type\": \"scattermapbox\"}], \"scatterpolar\": [{\"marker\": {\"colorbar\": {\"outlinewidth\": 0, \"ticks\": \"\"}}, \"type\": \"scatterpolar\"}], \"scatterpolargl\": [{\"marker\": {\"colorbar\": {\"outlinewidth\": 0, \"ticks\": \"\"}}, \"type\": \"scatterpolargl\"}], \"scatterternary\": [{\"marker\": {\"colorbar\": {\"outlinewidth\": 0, \"ticks\": \"\"}}, \"type\": \"scatterternary\"}], \"surface\": [{\"colorbar\": {\"outlinewidth\": 0, \"ticks\": \"\"}, \"colorscale\": [[0.0, \"#0d0887\"], [0.1111111111111111, \"#46039f\"], [0.2222222222222222, \"#7201a8\"], [0.3333333333333333, \"#9c179e\"], [0.4444444444444444, \"#bd3786\"], [0.5555555555555556, \"#d8576b\"], [0.6666666666666666, \"#ed7953\"], [0.7777777777777778, \"#fb9f3a\"], [0.8888888888888888, \"#fdca26\"], [1.0, \"#f0f921\"]], \"type\": \"surface\"}], \"table\": [{\"cells\": {\"fill\": {\"color\": \"#EBF0F8\"}, \"line\": {\"color\": \"white\"}}, \"header\": {\"fill\": {\"color\": \"#C8D4E3\"}, \"line\": {\"color\": \"white\"}}, \"type\": \"table\"}]}, \"layout\": {\"annotationdefaults\": {\"arrowcolor\": \"#2a3f5f\", \"arrowhead\": 0, \"arrowwidth\": 1}, \"coloraxis\": {\"colorbar\": {\"outlinewidth\": 0, \"ticks\": \"\"}}, \"colorscale\": {\"diverging\": [[0, \"#8e0152\"], [0.1, \"#c51b7d\"], [0.2, \"#de77ae\"], [0.3, \"#f1b6da\"], [0.4, \"#fde0ef\"], [0.5, \"#f7f7f7\"], [0.6, \"#e6f5d0\"], [0.7, \"#b8e186\"], [0.8, \"#7fbc41\"], [0.9, \"#4d9221\"], [1, \"#276419\"]], \"sequential\": [[0.0, \"#0d0887\"], [0.1111111111111111, \"#46039f\"], [0.2222222222222222, \"#7201a8\"], [0.3333333333333333, \"#9c179e\"], [0.4444444444444444, \"#bd3786\"], [0.5555555555555556, \"#d8576b\"], [0.6666666666666666, \"#ed7953\"], [0.7777777777777778, \"#fb9f3a\"], [0.8888888888888888, \"#fdca26\"], [1.0, \"#f0f921\"]], \"sequentialminus\": [[0.0, \"#0d0887\"], [0.1111111111111111, \"#46039f\"], [0.2222222222222222, \"#7201a8\"], [0.3333333333333333, \"#9c179e\"], [0.4444444444444444, \"#bd3786\"], [0.5555555555555556, \"#d8576b\"], [0.6666666666666666, \"#ed7953\"], [0.7777777777777778, \"#fb9f3a\"], [0.8888888888888888, \"#fdca26\"], [1.0, \"#f0f921\"]]}, \"colorway\": [\"#636efa\", \"#EF553B\", \"#00cc96\", \"#ab63fa\", \"#FFA15A\", \"#19d3f3\", \"#FF6692\", \"#B6E880\", \"#FF97FF\", \"#FECB52\"], \"font\": {\"color\": \"#2a3f5f\"}, \"geo\": {\"bgcolor\": \"white\", \"lakecolor\": \"white\", \"landcolor\": \"#E5ECF6\", \"showlakes\": true, \"showland\": true, \"subunitcolor\": \"white\"}, \"hoverlabel\": {\"align\": \"left\"}, \"hovermode\": \"closest\", \"mapbox\": {\"style\": \"light\"}, \"paper_bgcolor\": \"white\", \"plot_bgcolor\": \"#E5ECF6\", \"polar\": {\"angularaxis\": {\"gridcolor\": \"white\", \"linecolor\": \"white\", \"ticks\": \"\"}, \"bgcolor\": \"#E5ECF6\", \"radialaxis\": {\"gridcolor\": \"white\", \"linecolor\": \"white\", \"ticks\": \"\"}}, \"scene\": {\"xaxis\": {\"backgroundcolor\": \"#E5ECF6\", \"gridcolor\": \"white\", \"gridwidth\": 2, \"linecolor\": \"white\", \"showbackground\": true, \"ticks\": \"\", \"zerolinecolor\": \"white\"}, \"yaxis\": {\"backgroundcolor\": \"#E5ECF6\", \"gridcolor\": \"white\", \"gridwidth\": 2, \"linecolor\": \"white\", \"showbackground\": true, \"ticks\": \"\", \"zerolinecolor\": \"white\"}, \"zaxis\": {\"backgroundcolor\": \"#E5ECF6\", \"gridcolor\": \"white\", \"gridwidth\": 2, \"linecolor\": \"white\", \"showbackground\": true, \"ticks\": \"\", \"zerolinecolor\": \"white\"}}, \"shapedefaults\": {\"line\": {\"color\": \"#2a3f5f\"}}, \"ternary\": {\"aaxis\": {\"gridcolor\": \"white\", \"linecolor\": \"white\", \"ticks\": \"\"}, \"baxis\": {\"gridcolor\": \"white\", \"linecolor\": \"white\", \"ticks\": \"\"}, \"bgcolor\": \"#E5ECF6\", \"caxis\": {\"gridcolor\": \"white\", \"linecolor\": \"white\", \"ticks\": \"\"}}, \"title\": {\"x\": 0.05}, \"xaxis\": {\"automargin\": true, \"gridcolor\": \"white\", \"linecolor\": \"white\", \"ticks\": \"\", \"title\": {\"standoff\": 15}, \"zerolinecolor\": \"white\", \"zerolinewidth\": 2}, \"yaxis\": {\"automargin\": true, \"gridcolor\": \"white\", \"linecolor\": \"white\", \"ticks\": \"\", \"title\": {\"standoff\": 15}, \"zerolinecolor\": \"white\", \"zerolinewidth\": 2}}}},\n",
              "                        {\"responsive\": true}\n",
              "                    ).then(function(){\n",
              "                            \n",
              "var gd = document.getElementById('fda6f259-d8b5-492e-a1eb-65a39edc3a1c');\n",
              "var x = new MutationObserver(function (mutations, observer) {{\n",
              "        var display = window.getComputedStyle(gd).display;\n",
              "        if (!display || display === 'none') {{\n",
              "            console.log([gd, 'removed!']);\n",
              "            Plotly.purge(gd);\n",
              "            observer.disconnect();\n",
              "        }}\n",
              "}});\n",
              "\n",
              "// Listen for the removal of the full notebook cells\n",
              "var notebookContainer = gd.closest('#notebook-container');\n",
              "if (notebookContainer) {{\n",
              "    x.observe(notebookContainer, {childList: true});\n",
              "}}\n",
              "\n",
              "// Listen for the clearing of the current output cell\n",
              "var outputEl = gd.closest('.output');\n",
              "if (outputEl) {{\n",
              "    x.observe(outputEl, {childList: true});\n",
              "}}\n",
              "\n",
              "                        })\n",
              "                };\n",
              "                \n",
              "            </script>\n",
              "        </div>\n",
              "</body>\n",
              "</html>"
            ]
          },
          "metadata": {
            "tags": []
          }
        }
      ]
    },
    {
      "cell_type": "markdown",
      "metadata": {
        "id": "jtXSYe4A5MIe",
        "colab_type": "text"
      },
      "source": [
        "## Math support\n",
        "Inline math: $f(x)$\n",
        "\n",
        "Full line math:\n",
        "\n",
        "$$ \\sum_{i=1}^\\infty f(x) $$"
      ]
    },
    {
      "cell_type": "code",
      "metadata": {
        "id": "9W3iSawu5MIk",
        "colab_type": "code",
        "colab": {}
      },
      "source": [
        ""
      ],
      "execution_count": 0,
      "outputs": []
    }
  ]
}